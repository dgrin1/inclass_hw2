{
 "cells": [
  {
   "cell_type": "code",
   "execution_count": 1,
   "metadata": {},
   "outputs": [
    {
     "name": "stdout",
     "output_type": "stream",
     "text": [
      "Series for m = 1\n",
      "  121.5436037678517 nm\n",
      "  102.55241567912488 nm\n",
      "  97.23488301428137 nm\n",
      "  94.95594044363415 nm\n",
      "  93.76220862091418 nm\n",
      "Series for m = 2\n",
      "  656.3354603463993 nm\n",
      "  486.1744150714068 nm\n",
      "  434.084299170899 nm\n",
      "  410.2096627164995 nm\n",
      "  397.04243897498225 nm\n",
      "Series for m = 3\n",
      "  1875.2441724182836 nm\n",
      "  1281.9051959890612 nm\n",
      "  1093.8924339106654 nm\n",
      "  1005.013673655424 nm\n",
      "  954.6697605038536 nm\n"
     ]
    }
   ],
   "source": [
    "#This program is the best python program ever\n",
    "R=1.097e-2\n",
    "for m in [1,2,3]:\n",
    "\tprint(\"Series for m =\", m)\n",
    "\tfor k in [1,2,3,4,5]:\n",
    "\t\tn=m+k\n",
    "\t\tinvlambda=R*(1./m**2-1./n**2)\n",
    "\t\tprint(\" \",1/invlambda,\"nm\")\n",
    "\t\t\n"
   ]
  },
  {
   "cell_type": "code",
   "execution_count": null,
   "metadata": {},
   "outputs": [],
   "source": []
  }
 ],
 "metadata": {
  "kernelspec": {
   "display_name": "Python 3",
   "language": "python",
   "name": "python3"
  },
  "language_info": {
   "codemirror_mode": {
    "name": "ipython",
    "version": 3
   },
   "file_extension": ".py",
   "mimetype": "text/x-python",
   "name": "python",
   "nbconvert_exporter": "python",
   "pygments_lexer": "ipython3",
   "version": "3.7.6"
  }
 },
 "nbformat": 4,
 "nbformat_minor": 4
}
