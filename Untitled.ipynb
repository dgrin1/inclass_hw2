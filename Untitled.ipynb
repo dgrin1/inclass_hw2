{
 "cells": [
  {
   "cell_type": "code",
   "execution_count": 1,
   "metadata": {
    "collapsed": false
   },
   "outputs": [
    {
     "name": "stdout",
     "output_type": "stream",
     "text": [
      "x = .3\n",
      "0.295520206661\n"
     ]
    }
   ],
   "source": [
    "import numpy as np\n",
    "import math\n",
    "\n",
    "#read in x and compute it modulo 2*pi, so argument of sine is always moderate\n",
    "x = float(input('x = '))%(2.e0*np.pi)\n",
    "\n",
    "#initialize iterator and sum\n",
    "i = 0\n",
    "s,sold = 0.e0,0.e0\n",
    "\n",
    "#Keep at most 1000 terms in the Taylor series\n",
    "while i<1000:\n",
    "    #save last estimate\n",
    "    sold= s\n",
    "    #add next term in taylor series\n",
    "    s+= float((((-1)**i) * (x**((2*i) + 1))))/float(math.factorial(((2*i) + 1)))\n",
    "    #iterate index\n",
    "    i += 1\n",
    "    #if sum has converged to machine precision set iterator well beyond its max to exist loop\n",
    "    #in the while implementation this avoids breaking the factorial function with huge number\n",
    "    if sold == s: i=1000000\n",
    "print s\n",
    "    \n"
   ]
  },
  {
   "cell_type": "code",
   "execution_count": null,
   "metadata": {
    "collapsed": true
   },
   "outputs": [],
   "source": []
  }
 ],
 "metadata": {
  "anaconda-cloud": {},
  "kernelspec": {
   "display_name": "Python [conda env:anaconda2]",
   "language": "python",
   "name": "conda-env-anaconda2-py"
  },
  "language_info": {
   "codemirror_mode": {
    "name": "ipython",
    "version": 2
   },
   "file_extension": ".py",
   "mimetype": "text/x-python",
   "name": "python",
   "nbconvert_exporter": "python",
   "pygments_lexer": "ipython2",
   "version": "2.7.12"
  }
 },
 "nbformat": 4,
 "nbformat_minor": 1
}
